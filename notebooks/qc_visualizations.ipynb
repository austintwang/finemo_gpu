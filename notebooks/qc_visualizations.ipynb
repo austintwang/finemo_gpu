{
 "cells": [
  {
   "cell_type": "code",
   "execution_count": 1,
   "metadata": {},
   "outputs": [],
   "source": [
    "import pandas as pd\n",
    "import numpy as np\n",
    "import matplotlib.pyplot as plt\n",
    "import seaborn as sns\n",
    "sns.set()"
   ]
  },
  {
   "cell_type": "code",
   "execution_count": 2,
   "metadata": {},
   "outputs": [],
   "source": [
    "qc_path = \"/oak/stanford/groups/akundaje/atwang/finemo_gpu_test/K562/obs_a_0.6_c_0.0005_v9/peaks_qc.tsv\""
   ]
  },
  {
   "cell_type": "code",
   "execution_count": 3,
   "metadata": {},
   "outputs": [
    {
     "data": {
      "text/html": [
       "<div>\n",
       "<style scoped>\n",
       "    .dataframe tbody tr th:only-of-type {\n",
       "        vertical-align: middle;\n",
       "    }\n",
       "\n",
       "    .dataframe tbody tr th {\n",
       "        vertical-align: top;\n",
       "    }\n",
       "\n",
       "    .dataframe thead th {\n",
       "        text-align: right;\n",
       "    }\n",
       "</style>\n",
       "<table border=\"1\" class=\"dataframe\">\n",
       "  <thead>\n",
       "    <tr style=\"text-align: right;\">\n",
       "      <th></th>\n",
       "      <th>peak_id</th>\n",
       "      <th>log_likelihood</th>\n",
       "      <th>dual_gap</th>\n",
       "      <th>num_steps</th>\n",
       "      <th>step_size</th>\n",
       "      <th>global_scale</th>\n",
       "      <th>chr</th>\n",
       "      <th>peak_region_start</th>\n",
       "      <th>peak_name</th>\n",
       "    </tr>\n",
       "  </thead>\n",
       "  <tbody>\n",
       "    <tr>\n",
       "      <th>0</th>\n",
       "      <td>233</td>\n",
       "      <td>0.374103</td>\n",
       "      <td>0.000244</td>\n",
       "      <td>36</td>\n",
       "      <td>1.0</td>\n",
       "      <td>0.005639</td>\n",
       "      <td>chr1</td>\n",
       "      <td>104479</td>\n",
       "      <td>Peak_134823</td>\n",
       "    </tr>\n",
       "    <tr>\n",
       "      <th>1</th>\n",
       "      <td>1433</td>\n",
       "      <td>0.451238</td>\n",
       "      <td>0.000297</td>\n",
       "      <td>44</td>\n",
       "      <td>1.0</td>\n",
       "      <td>0.006057</td>\n",
       "      <td>chr1</td>\n",
       "      <td>115228</td>\n",
       "      <td>Peak_7529</td>\n",
       "    </tr>\n",
       "    <tr>\n",
       "      <th>2</th>\n",
       "      <td>2354</td>\n",
       "      <td>0.442051</td>\n",
       "      <td>0.000731</td>\n",
       "      <td>51</td>\n",
       "      <td>1.0</td>\n",
       "      <td>0.010027</td>\n",
       "      <td>chr1</td>\n",
       "      <td>136221</td>\n",
       "      <td>Peak_105658</td>\n",
       "    </tr>\n",
       "    <tr>\n",
       "      <th>3</th>\n",
       "      <td>2389</td>\n",
       "      <td>0.416569</td>\n",
       "      <td>0.000306</td>\n",
       "      <td>51</td>\n",
       "      <td>1.0</td>\n",
       "      <td>0.006021</td>\n",
       "      <td>chr1</td>\n",
       "      <td>138542</td>\n",
       "      <td>Peak_66979</td>\n",
       "    </tr>\n",
       "    <tr>\n",
       "      <th>4</th>\n",
       "      <td>6884</td>\n",
       "      <td>0.445513</td>\n",
       "      <td>0.000848</td>\n",
       "      <td>53</td>\n",
       "      <td>1.0</td>\n",
       "      <td>0.006745</td>\n",
       "      <td>chr1</td>\n",
       "      <td>180407</td>\n",
       "      <td>Peak_185053</td>\n",
       "    </tr>\n",
       "    <tr>\n",
       "      <th>...</th>\n",
       "      <td>...</td>\n",
       "      <td>...</td>\n",
       "      <td>...</td>\n",
       "      <td>...</td>\n",
       "      <td>...</td>\n",
       "      <td>...</td>\n",
       "      <td>...</td>\n",
       "      <td>...</td>\n",
       "      <td>...</td>\n",
       "    </tr>\n",
       "    <tr>\n",
       "      <th>196073</th>\n",
       "      <td>193515</td>\n",
       "      <td>0.467252</td>\n",
       "      <td>0.000354</td>\n",
       "      <td>51</td>\n",
       "      <td>1.0</td>\n",
       "      <td>0.004292</td>\n",
       "      <td>chrX</td>\n",
       "      <td>156029778</td>\n",
       "      <td>Peak_60925</td>\n",
       "    </tr>\n",
       "    <tr>\n",
       "      <th>196074</th>\n",
       "      <td>196074</td>\n",
       "      <td>0.417225</td>\n",
       "      <td>0.000918</td>\n",
       "      <td>166</td>\n",
       "      <td>1.0</td>\n",
       "      <td>0.008449</td>\n",
       "      <td>chrY</td>\n",
       "      <td>11099159</td>\n",
       "      <td>Peak_131125</td>\n",
       "    </tr>\n",
       "    <tr>\n",
       "      <th>196075</th>\n",
       "      <td>196075</td>\n",
       "      <td>0.419622</td>\n",
       "      <td>0.000995</td>\n",
       "      <td>198</td>\n",
       "      <td>1.0</td>\n",
       "      <td>0.004616</td>\n",
       "      <td>chrY</td>\n",
       "      <td>11102702</td>\n",
       "      <td>Peak_53228</td>\n",
       "    </tr>\n",
       "    <tr>\n",
       "      <th>196076</th>\n",
       "      <td>196076</td>\n",
       "      <td>0.396750</td>\n",
       "      <td>0.000989</td>\n",
       "      <td>200</td>\n",
       "      <td>1.0</td>\n",
       "      <td>0.006313</td>\n",
       "      <td>chrY</td>\n",
       "      <td>12394564</td>\n",
       "      <td>Peak_80399</td>\n",
       "    </tr>\n",
       "    <tr>\n",
       "      <th>196077</th>\n",
       "      <td>196077</td>\n",
       "      <td>0.410828</td>\n",
       "      <td>0.000960</td>\n",
       "      <td>198</td>\n",
       "      <td>1.0</td>\n",
       "      <td>0.011440</td>\n",
       "      <td>chrY</td>\n",
       "      <td>26314764</td>\n",
       "      <td>Peak_73334</td>\n",
       "    </tr>\n",
       "  </tbody>\n",
       "</table>\n",
       "<p>196078 rows × 9 columns</p>\n",
       "</div>"
      ],
      "text/plain": [
       "        peak_id  log_likelihood  dual_gap  num_steps  step_size  global_scale  \\\n",
       "0           233        0.374103  0.000244         36        1.0      0.005639   \n",
       "1          1433        0.451238  0.000297         44        1.0      0.006057   \n",
       "2          2354        0.442051  0.000731         51        1.0      0.010027   \n",
       "3          2389        0.416569  0.000306         51        1.0      0.006021   \n",
       "4          6884        0.445513  0.000848         53        1.0      0.006745   \n",
       "...         ...             ...       ...        ...        ...           ...   \n",
       "196073   193515        0.467252  0.000354         51        1.0      0.004292   \n",
       "196074   196074        0.417225  0.000918        166        1.0      0.008449   \n",
       "196075   196075        0.419622  0.000995        198        1.0      0.004616   \n",
       "196076   196076        0.396750  0.000989        200        1.0      0.006313   \n",
       "196077   196077        0.410828  0.000960        198        1.0      0.011440   \n",
       "\n",
       "         chr  peak_region_start    peak_name  \n",
       "0       chr1             104479  Peak_134823  \n",
       "1       chr1             115228    Peak_7529  \n",
       "2       chr1             136221  Peak_105658  \n",
       "3       chr1             138542   Peak_66979  \n",
       "4       chr1             180407  Peak_185053  \n",
       "...      ...                ...          ...  \n",
       "196073  chrX          156029778   Peak_60925  \n",
       "196074  chrY           11099159  Peak_131125  \n",
       "196075  chrY           11102702   Peak_53228  \n",
       "196076  chrY           12394564   Peak_80399  \n",
       "196077  chrY           26314764   Peak_73334  \n",
       "\n",
       "[196078 rows x 9 columns]"
      ]
     },
     "execution_count": 3,
     "metadata": {},
     "output_type": "execute_result"
    }
   ],
   "source": [
    "qc_df = pd.read_csv(qc_path, sep=\"\\t\")\n",
    "qc_df"
   ]
  },
  {
   "cell_type": "code",
   "execution_count": 4,
   "metadata": {},
   "outputs": [
    {
     "data": {
      "text/plain": [
       "<Axes: xlabel='num_steps', ylabel='Count'>"
      ]
     },
     "execution_count": 4,
     "metadata": {},
     "output_type": "execute_result"
    },
    {
     "data": {
      "image/png": "[encoded data removed]",
      "text/plain": [
       "<Figure size 640x480 with 1 Axes>"
      ]
     },
     "metadata": {},
     "output_type": "display_data"
    }
   ],
   "source": [
    "sns.histplot(data=qc_df, x=\"num_steps\")"
   ]
  },
  {
   "cell_type": "code",
   "execution_count": 7,
   "metadata": {},
   "outputs": [
    {
     "data": {
      "text/plain": [
       "<Axes: xlabel='global_scale', ylabel='Count'>"
      ]
     },
     "execution_count": 7,
     "metadata": {},
     "output_type": "execute_result"
    },
    {
     "data": {
      "image/png": "[encoded data removed]",
      "text/plain": [
       "<Figure size 640x480 with 1 Axes>"
      ]
     },
     "metadata": {},
     "output_type": "display_data"
    }
   ],
   "source": [
    "sns.histplot(data=qc_df, x=\"global_scale\")"
   ]
  }
 ],
 "metadata": {
  "kernelspec": {
   "display_name": "finemo_gpu_notebooks",
   "language": "python",
   "name": "python3"
  },
  "language_info": {
   "codemirror_mode": {
    "name": "ipython",
    "version": 3
   },
   "file_extension": ".py",
   "mimetype": "text/x-python",
   "name": "python",
   "nbconvert_exporter": "python",
   "pygments_lexer": "ipython3",
   "version": "3.10.12"
  },
  "orig_nbformat": 4
 },
 "nbformat": 4,
 "nbformat_minor": 2
}
