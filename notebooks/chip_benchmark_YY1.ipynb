{
 "cells": [
  {
   "cell_type": "code",
   "execution_count": 13,
   "metadata": {},
   "outputs": [],
   "source": [
    "import pandas as pd\n",
    "import numpy as np\n",
    "import pyBigWig as pybw\n",
    "import os\n",
    "import h5py\n",
    "import pyfaidx"
   ]
  },
  {
   "cell_type": "code",
   "execution_count": 14,
   "metadata": {},
   "outputs": [],
   "source": [
    "\n",
    "# tobias_motif_id =\"GATA3_GATA_1_GATA3_GATA_1\"\n",
    "tobias_motif_id = \"TYY1_HUMAN.H11MO.0.A_TYY1_HUMAN.H11MO.0.A\"\n",
    "# tobias_motif_id = \"CTCF_MA0139.1_CTCF_MA0139.1_1\"\n",
    "# tobias_motif_id=\"KLF12_HUMAN.H11MO.0.C_KLF12_HUMAN.H11MO.0.C\"\n",
    "# chip_enc = \"ENCSR257RKC\"\n",
    "chip_enc = \"ENCSR000EWF\"\n",
    "# chip_enc = \"ENCSR000EGM\"\n",
    "# chip_enc = \"ENCSR372IML\"\n",
    "hit_call_bed_atac = \"/mnt/lab_data3/anusri/chrombpnet/results/chrombpnet/ATAC_PE/HEPG2/testing/atlas_runs/benchmarking/og_version_only_cwm_ATAC/\"\n",
    "atac_motif_id= \"0_13\"\n",
    "# atac_motif_id= \"0_0\"\n",
    "# atac_motif_id=\"0_1\"\n",
    "# atac_motif_id= \"0_2\"\n",
    "hit_call_bed_dnase= \"/mnt/lab_data3/anusri/chrombpnet/results/chrombpnet/ATAC_PE/HEPG2/testing/atlas_runs/benchmarking/og_version_only_cwm_DNASE/\"\n",
    "dnase_motif_id= \"0_13\"\n",
    "# dnase_motif_id= \"0_0\"\n",
    "# dnase_motif_id= \"0_1\"\n",
    "# dnase_motif_id= \"0_2\"\n",
    "# use arguments to fill paths\n",
    "\n",
    "finemo_hits_path = \"/oak/stanford/groups/akundaje/atwang/finemo_gpu_test/K562/obs_a_0.6_c_0.0005_v5/chip/YY1_raw/hit_importances.bed\"\n",
    "\n",
    "# output_dir = \"/mnt/lab_data3/anusri/chrombpnet/results/chrombpnet/ATAC_PE/HEPG2/testing/viveks/og_version_filter_modisco_rank_resolve_benchmark/\"\n",
    "output_dir = \"/oak/stanford/groups/akundaje/atwang/finemo_gpu_test/K562/chip/benchmark_YY1/\"\n",
    "\n",
    "\n",
    "motif_hits_path_tobias=\"/mnt/lab_data2/anusri/chrombpnet/results/tobias/ATAC_PE/K562/K562_ATAC_TOBIAS/\"+tobias_motif_id+\"/beds/\"+tobias_motif_id+\"_K562_bound.bed\"\n",
    "chip_seq_bw_path=\"/oak/stanford/groups/akundaje/vir/tfatlas/shap/production_run_1/fold1/\"+chip_enc+\"/counts_scores.bw\"\n",
    "chip_seq_bed_path=\"/oak/stanford/groups/akundaje/vir/tfatlas/shap/production_run_1/fold1/\"+chip_enc+\"/peaks_valid_scores.bed\"\n",
    "# atac_hits_path=os.path.join(hit_call_bed_atac,\"temp/final.bed\")\n",
    "dnase_hits_path=os.path.join(hit_call_bed_dnase,\"auxiliary/final.bed\")\n",
    "\n",
    "# observed_atac = \"/mnt/lab_data2/anusri/chrombpnet/results/chrombpnet/ATAC_PE/K562/data/K562_unstranded.bw\"\n",
    "observed_dnase = \"/mnt/lab_data2/anusri/chrombpnet/results/chrombpnet/DNASE_PE/K562/data/K562_unstranded.bw\"\n",
    "\n",
    "genome_fasta = \"/mnt/lab_data2/anusri/chrombpnet/reference/hg38.genome.fa\"\n",
    "\n",
    "tfmodisco_atac=\"/oak/stanford/groups/akundaje/projects/chrombpnet_paper_new/modisco_jun_30/modisco/ATAC/K562/modiscolite_crop_500_1M_seqs/modisco_results_allChroms_counts.hdf5\"\n",
    "tfmodisco_dnase=\"/oak/stanford/groups/akundaje/projects/chrombpnet_paper_new/modisco_jun_30/modisco/DNASE/K562/modiscolite_crop_500_1M_seqs/modisco_results_allChroms_counts.hdf5\"\n"
   ]
  },
  {
   "cell_type": "code",
   "execution_count": 15,
   "metadata": {},
   "outputs": [],
   "source": [
    "def find_hits_in_peaks(input_hits, chip_bed, output_dir, output_path):\n",
    "    os.makedirs(output_dir, exist_ok=True)\n",
    "    output_path = os.path.join(output_dir, output_path)\n",
    "    #print(output_dir)\n",
    "    command = []\n",
    "    command += [\"bedtools\"]\n",
    "    command += [\"intersect\"]\n",
    "    command += [\"-a\"]\n",
    "    command += [input_hits]\n",
    "    command += [\"-b\"]\n",
    "    command += [chip_bed]\n",
    "    command += [\"-wa\"]\n",
    "    command += [\"|\"]\n",
    "    command += [\"sort\"]\n",
    "    command += [\"|\"]\n",
    "    command += [\"uniq\"]\n",
    "    command += [\">\"]\n",
    "    command += [output_path]\n",
    "    \n",
    "    print(\" \".join(command))\n",
    "    os.system(\" \".join(command))\n",
    "    \n",
    "def dna_to_one_hot(seqs):\n",
    "    \"\"\"\n",
    "    Converts a list of DNA (\"ACGT\") sequences to one-hot encodings, where the\n",
    "    position of 1s is ordered alphabetically by \"ACGT\". `seqs` must be a list\n",
    "    of N strings, where every string is the same length L. Returns an N x L x 4\n",
    "    NumPy array of one-hot encodings, in the same order as the input sequences.\n",
    "    All bases will be converted to upper-case prior to performing the encoding.\n",
    "    Any bases that are not \"ACGT\" will be given an encoding of all 0s.\n",
    "    \"\"\"\n",
    "    seq_len = len(seqs[0])\n",
    "    assert np.all(np.array([len(s) for s in seqs]) == seq_len)\n",
    "\n",
    "    # Join all sequences together into one long string, all uppercase\n",
    "    seq_concat = \"\".join(seqs).upper() + \"ACGT\"\n",
    "    # Add one example of each base, so np.unique doesn't miss indices later\n",
    "\n",
    "    one_hot_map = np.identity(5)[:, :-1].astype(np.int8)\n",
    "\n",
    "    # Convert string into array of ASCII character codes;\n",
    "    base_vals = np.frombuffer(bytearray(seq_concat, \"utf8\"), dtype=np.int8)\n",
    "\n",
    "    # Anything that's not an A, C, G, or T gets assigned a higher code\n",
    "    base_vals[~np.isin(base_vals, np.array([65, 67, 71, 84]))] = 85\n",
    "\n",
    "    # Convert the codes into indices in [0, 4], in ascending order by code\n",
    "    _, base_inds = np.unique(base_vals, return_inverse=True)\n",
    "\n",
    "    # Get the one-hot encoding for those indices, and reshape back to separate\n",
    "    return one_hot_map[base_inds[:-4]].reshape((len(seqs), seq_len, 4))\n",
    " \n",
    "def import_tfmodisco_motifs(tfm_results_path, trim=True, only_pos=True):\n",
    "    \"\"\"\n",
    "    Imports the PFMs to into a dictionary, mapping `(x, y)` to the PFM,\n",
    "    where `x` is the metacluster index and `y` is the pattern index.\n",
    "    Arguments:\n",
    "        `tfm_results_path`: path to HDF5 containing TF-MoDISco results\n",
    "        `out_dir`: where to save motifs\n",
    "        `trim`: if True, trim the motif flanks based on information content\n",
    "        `only_pos`: if True, only return motifs with positive contributions\n",
    "    Returns the dictionary of PFMs.\n",
    "    \"\"\" \n",
    "    \n",
    "    def softmax(x, temp=100):\n",
    "        norm_x = x - np.mean(x,axis=1, keepdims=True)\n",
    "        return np.exp(temp*norm_x)/np.sum(np.exp(temp*norm_x), axis=1, keepdims=True)\n",
    "\n",
    "    def trim_motif_new(cwm, motif, trim_threshold=0.3, max_motif_width=None):\n",
    "        \"\"\"\n",
    "        Given the PFM and motif (both L x 4 arrays) (the motif could be the\n",
    "        PFM itself), trims `motif` by cutting off flanks of low information\n",
    "        content in `pfm`. `min_ic` is the minimum required information\n",
    "        content. If specified this trimmed motif will be extended on either\n",
    "        side by `pad` bases.\n",
    "        If no base passes the `min_ic` threshold, then no trimming is done.\n",
    "        \"\"\"\n",
    "\n",
    "        score = np.sum(np.abs(cwm), axis=1)\n",
    "        trim_thresh = np.max(score) * trim_threshold  # Cut off anything less than 30% of max score\n",
    "        pass_inds = np.where(score >= trim_thresh)[0]\n",
    "        trimmed = motif[np.min(pass_inds): np.max(pass_inds) + 1]\n",
    "\n",
    "        return trimmed\n",
    "    \n",
    "    pfms = {}\n",
    "    with h5py.File(tfm_results_path, \"r\") as f:\n",
    "        metaclusters = f[\"metacluster_idx_to_submetacluster_results\"]\n",
    "        num_metaclusters = len(metaclusters.keys())\n",
    "        for metacluster_i, metacluster_key in enumerate(metaclusters.keys()):\n",
    "            metacluster = metaclusters[metacluster_key]\n",
    "            if \"patterns\" not in metacluster[\"seqlets_to_patterns_result\"]:\n",
    "                continue\n",
    "            patterns = metacluster[\"seqlets_to_patterns_result\"][\"patterns\"]\n",
    "            num_patterns = len(patterns[\"all_pattern_names\"][:])\n",
    "            for pattern_i, pattern_name in enumerate(patterns[\"all_pattern_names\"][:]):\n",
    "                pattern_name = pattern_name\n",
    "                pattern = patterns[pattern_name]\n",
    "                pfm = pattern[\"sequence\"][\"fwd\"][:]\n",
    "                cwm = pattern[\"task0_contrib_scores\"][\"fwd\"][:]\n",
    "                \n",
    "                # Check that the contribution scores are overall positive\n",
    "                if only_pos and np.sum(cwm) < 0:\n",
    "                    continue\n",
    "                    \n",
    "                if trim:\n",
    "                    pfm = trim_motif_new(cwm, cwm)\n",
    "                    \n",
    "                pfms[\"%d_%d\" % (metacluster_i,pattern_i)] = softmax(pfm)\n",
    "    return pfms\n"
   ]
  },
  {
   "cell_type": "code",
   "execution_count": 16,
   "metadata": {},
   "outputs": [],
   "source": [
    "def fetch_footprint_scores_for_tobias(motif_hits_path_tobias, chip_bpnet, cwm_weight, genome):\n",
    "    \n",
    "    names=[\"chrom\", \"start\", \"end\", \"key\",  \"score\", \"strand\", \"pchr\", \"pstart\", \"pend\", \"imp_frac_score\"]\n",
    "    \n",
    "    hit_table_tobias = pd.read_csv(motif_hits_path_tobias, sep=\"\\t\", header=None, names=names)\n",
    "    #print(hit_table_tobias)\n",
    "    prof_coords = hit_table_tobias[[\"chrom\", \"start\", \"end\"]].values\n",
    "    strands = hit_table_tobias[\"strand\"].values\n",
    "    \n",
    "    footprint_scores = []\n",
    "    for i in range(len(prof_coords)):\n",
    "        chrom, start, end = prof_coords[i]\n",
    "        sequence = str(genome[chrom][start:end])\n",
    "        one_hot = dna_to_one_hot([sequence])\n",
    "        if strands[i]==\"+\":\n",
    "            val_bp = np.mean((np.nan_to_num(chip_bpnet.values(chrom,start,end))*np.sum(cwm_weight*one_hot[0],axis=1)))\n",
    "        else:\n",
    "            val_bp = np.mean((np.nan_to_num(chip_bpnet.values(chrom,start,end))*np.sum((np.flip(cwm_weight)*np.flip(one_hot[0])),axis=1)))\n",
    "        footprint_scores.append(val_bp)\n",
    "            \n",
    "    hit_table_tobias[\"footprint\"]  = footprint_scores\n",
    "    \n",
    "    return hit_table_tobias\n"
   ]
  },
  {
   "cell_type": "code",
   "execution_count": 17,
   "metadata": {},
   "outputs": [],
   "source": [
    "def fetch_v1_scores_for_chrombpnet(motif_hits_path, keyd, chip_bpnet, observed_data, cwm_weight, genome):\n",
    "    \n",
    "    names=[\"chrom\", \"start\", \"end\", \"key\", \"strand\", \"match_score\", \"imp_frac_score\", \"cwm_scores\", \"pvalue\", \"qvalue\", \"clust\"]\n",
    "    hit_table = pd.read_csv(motif_hits_path, sep=\"\\t\", header=None, names=names)\n",
    "    \n",
    "    print(hit_table.head())\n",
    "    hit_table = hit_table[hit_table[\"key\"].isin(keyd)]\n",
    "    print(hit_table.shape)\n",
    "                        \n",
    "    prof_coords = hit_table[[\"chrom\", \"start\", \"end\"]].values\n",
    "    strands = hit_table[\"strand\"].values\n",
    "    \n",
    "    footprint_scores = []\n",
    "    observed_counts = []\n",
    "              \n",
    "    for i in range(len(prof_coords)):\n",
    "        chrom, start, end = prof_coords[i]\n",
    "        sequence = str(genome[chrom][start:end])\n",
    "        one_hot = dna_to_one_hot([sequence])\n",
    "        if strands[i]==\"+\":\n",
    "            val_bp = np.mean((np.nan_to_num(chip_bpnet.values(chrom,start,end))*np.sum(cwm_weight*one_hot[0],axis=1)))\n",
    "        else:\n",
    "            val_bp = np.mean((np.nan_to_num(chip_bpnet.values(chrom,start,end))*np.sum((np.flip(cwm_weight)*one_hot[0]),axis=1)))\n",
    "              \n",
    "        obs_d = np.mean(np.nan_to_num(observed_data.values(chrom,start,end)))\n",
    "\n",
    "        observed_counts.append(obs_d)\n",
    "        footprint_scores.append(val_bp)\n",
    "            \n",
    "    hit_table[\"footprint\"]  = footprint_scores\n",
    "    hit_table[\"counts\"]  = observed_counts\n",
    "  \n",
    "    return hit_table\n"
   ]
  },
  {
   "cell_type": "code",
   "execution_count": 18,
   "metadata": {},
   "outputs": [],
   "source": [
    "def fetch_v2_scores_for_chrombpnet(motif_hits_path, chip_bpnet, observed_data, cwm_weight, genome):\n",
    "    \n",
    "    names=[\"chrom\", \"start\", \"end\", \"key\", \"strand\", \"hit_score\"]\n",
    "    hit_table = pd.read_csv(motif_hits_path, sep=\"\\t\", header=None, names=names)\n",
    "    \n",
    "    print(hit_table.head())\n",
    "    # hit_table = hit_table[hit_table[\"key\"].isin(keyd)]\n",
    "    print(hit_table.shape)\n",
    "                        \n",
    "    prof_coords = hit_table[[\"chrom\", \"start\", \"end\"]].values\n",
    "    strands = hit_table[\"strand\"].values\n",
    "    \n",
    "    footprint_scores = []\n",
    "    observed_counts = []\n",
    "              \n",
    "    for i in range(len(prof_coords)):\n",
    "        chrom, start, end = prof_coords[i]\n",
    "        sequence = str(genome[chrom][start:end])\n",
    "        one_hot = dna_to_one_hot([sequence])\n",
    "        if strands[i]==\"+\":\n",
    "            val_bp = np.mean((np.nan_to_num(chip_bpnet.values(chrom,start,end))*np.sum(cwm_weight*one_hot[0],axis=1)))\n",
    "        else:\n",
    "            val_bp = np.mean((np.nan_to_num(chip_bpnet.values(chrom,start,end))*np.sum((np.flip(cwm_weight)*one_hot[0]),axis=1)))\n",
    "              \n",
    "        obs_d = np.mean(np.nan_to_num(observed_data.values(chrom,start,end)))\n",
    "\n",
    "        observed_counts.append(obs_d)\n",
    "        footprint_scores.append(val_bp)\n",
    "            \n",
    "    hit_table[\"footprint\"]  = footprint_scores\n",
    "    hit_table[\"counts\"]  = observed_counts\n",
    "  \n",
    "    return hit_table\n"
   ]
  },
  {
   "cell_type": "code",
   "execution_count": 19,
   "metadata": {},
   "outputs": [
    {
     "name": "stdout",
     "output_type": "stream",
     "text": [
      "bedtools intersect -a /mnt/lab_data2/anusri/chrombpnet/results/tobias/ATAC_PE/K562/K562_ATAC_TOBIAS/TYY1_HUMAN.H11MO.0.A_TYY1_HUMAN.H11MO.0.A/beds/TYY1_HUMAN.H11MO.0.A_TYY1_HUMAN.H11MO.0.A_K562_bound.bed -b /oak/stanford/groups/akundaje/vir/tfatlas/shap/production_run_1/fold1/ENCSR000EWF/peaks_valid_scores.bed -wa | sort | uniq > /oak/stanford/groups/akundaje/atwang/finemo_gpu_test/K562/chip/benchmark_YY1/ENCSR000EWF_TYY1_HUMAN.H11MO.0.A_TYY1_HUMAN.H11MO.0.A/tobias_hits_in_peaks.bed\n"
     ]
    },
    {
     "name": "stdout",
     "output_type": "stream",
     "text": [
      "bedtools intersect -a /mnt/lab_data3/anusri/chrombpnet/results/chrombpnet/ATAC_PE/HEPG2/testing/atlas_runs/benchmarking/og_version_only_cwm_DNASE/auxiliary/final.bed -b /oak/stanford/groups/akundaje/vir/tfatlas/shap/production_run_1/fold1/ENCSR000EWF/peaks_valid_scores.bed -wa | sort | uniq > /oak/stanford/groups/akundaje/atwang/finemo_gpu_test/K562/chip/benchmark_YY1/ENCSR000EWF_0_13/dnase_hits_in_peaks.bed\n",
      "bedtools intersect -a /oak/stanford/groups/akundaje/atwang/finemo_gpu_test/K562/obs_a_0.6_c_0.0005_v5/chip/YY1_raw/hit_importances.bed -b /oak/stanford/groups/akundaje/vir/tfatlas/shap/production_run_1/fold1/ENCSR000EWF/peaks_valid_scores.bed -wa | sort | uniq > /oak/stanford/groups/akundaje/atwang/finemo_gpu_test/K562/chip/benchmark_YY1/ENCSR000EWF_0_13/finemo_hits_in_peaks.bed\n"
     ]
    }
   ],
   "source": [
    "find_hits_in_peaks(motif_hits_path_tobias, chip_seq_bed_path, os.path.join(output_dir,chip_enc+\"_\"+tobias_motif_id), \"tobias_hits_in_peaks.bed\")\n",
    "tobias_hits_path=os.path.join(os.path.join(output_dir,chip_enc+\"_\"+tobias_motif_id),\"tobias_hits_in_peaks.bed\")\n",
    "\n",
    "# find_hits_in_peaks(atac_hits_path, chip_seq_bed_path, os.path.join(output_dir,chip_enc+\"_\"+atac_motif_id), \"atac_hits_in_peaks.bed\")\n",
    "# atac_hits_path=os.path.join(os.path.join(output_dir,chip_enc+\"_\"+atac_motif_id),\"atac_hits_in_peaks.bed\")\n",
    "\n",
    "find_hits_in_peaks(dnase_hits_path, chip_seq_bed_path, os.path.join(output_dir,chip_enc+\"_\"+dnase_motif_id), \"dnase_hits_in_peaks.bed\")\n",
    "dnase_hits_path=os.path.join(os.path.join(output_dir,chip_enc+\"_\"+dnase_motif_id),\"dnase_hits_in_peaks.bed\")\n",
    "\n",
    "find_hits_in_peaks(finemo_hits_path, chip_seq_bed_path, os.path.join(output_dir,chip_enc+\"_\"+dnase_motif_id), \"finemo_hits_in_peaks.bed\")\n",
    "finemo_hits_path=os.path.join(os.path.join(output_dir,chip_enc+\"_\"+dnase_motif_id),\"finemo_hits_in_peaks.bed\")\n"
   ]
  },
  {
   "cell_type": "code",
   "execution_count": 20,
   "metadata": {},
   "outputs": [],
   "source": [
    "pfm_atac = import_tfmodisco_motifs(tfmodisco_atac)\n",
    "pfm_dnase = import_tfmodisco_motifs(tfmodisco_dnase)\n",
    "chip_seq_bw = pybw.open(chip_seq_bw_path)\n",
    "# atac_bw =  pybw.open(observed_atac)\n",
    "dnase_bw =  pybw.open(observed_dnase)\n",
    "genome = pyfaidx.Fasta(genome_fasta)"
   ]
  },
  {
   "cell_type": "code",
   "execution_count": 21,
   "metadata": {},
   "outputs": [
    {
     "data": {
      "text/plain": [
       "(6020, 11)"
      ]
     },
     "execution_count": 21,
     "metadata": {},
     "output_type": "execute_result"
    }
   ],
   "source": [
    "tobias_atac = fetch_footprint_scores_for_tobias(motif_hits_path_tobias, chip_seq_bw, pfm_atac[atac_motif_id], genome)\n",
    "tobias_atac.shape"
   ]
  },
  {
   "cell_type": "code",
   "execution_count": 22,
   "metadata": {},
   "outputs": [],
   "source": [
    "#counts_atac = fetch_footprint_scores_for_chrombpnet(atac_hits_path, [atac_motif_id], chip_seq_bw, atac_bw, pfm_atac[atac_motif_id], genome)\n",
    "# counts_atac = fetch_footprint_scores_for_chrombpnet(atac_hits_path, [dnase_motif_id], chip_seq_bw, atac_bw, pfm_dnase[dnase_motif_id], genome)\n",
    "\n"
   ]
  },
  {
   "cell_type": "code",
   "execution_count": 23,
   "metadata": {},
   "outputs": [
    {
     "name": "stdout",
     "output_type": "stream",
     "text": [
      "   chrom      start        end   key strand  match_score  imp_frac_score  \\\n",
      "0  chr10  100286084  100286093   0_2      +        8.766        0.011260   \n",
      "1  chr10  100286143  100286149   1_0      +        5.410        0.009932   \n",
      "2  chr10  100286229  100286236  0_28      -        6.590        0.028238   \n",
      "3  chr10  100286238  100286247   0_2      +        8.625        0.019756   \n",
      "4  chr10  100286672  100286694  0_35      -       -7.402        0.015943   \n",
      "\n",
      "   cwm_scores    pvalue   qvalue  clust  \n",
      "0    0.097058  0.002900  0.07654  58921  \n",
      "1   -0.033244  0.003942  0.08980  58922  \n",
      "2    0.244711  0.000188  0.01784  58923  \n",
      "3    0.181061  0.000638  0.03482  58923  \n",
      "4    0.215707  0.001174  0.04782  58924  \n",
      "(2246, 11)\n"
     ]
    },
    {
     "data": {
      "text/plain": [
       "(2246, 13)"
      ]
     },
     "execution_count": 23,
     "metadata": {},
     "output_type": "execute_result"
    }
   ],
   "source": [
    "#counts_dnase = fetch_footprint_scores_for_chrombpnet(dnase_hits_path, [atac_motif_id], chip_seq_bw, dnase_bw, pfm_atac[atac_motif_id], genome)\n",
    "counts_dnase = fetch_v1_scores_for_chrombpnet(dnase_hits_path, [dnase_motif_id], chip_seq_bw, dnase_bw, pfm_dnase[dnase_motif_id], genome)\n",
    "\n",
    "counts_dnase.shape"
   ]
  },
  {
   "cell_type": "code",
   "execution_count": 24,
   "metadata": {},
   "outputs": [
    {
     "name": "stdout",
     "output_type": "stream",
     "text": [
      "   chrom      start        end key strand  hit_score\n",
      "0  chr10  100286119  100286130   .      +   1.551096\n",
      "1  chr10  101353734  101353745   .      +  11.197751\n",
      "2  chr10  101588333  101588344   .      -  20.116900\n",
      "3  chr10  102133065  102133076   .      -  16.158188\n",
      "4  chr10  102152201  102152212   .      -   6.910259\n",
      "(2250, 6)\n"
     ]
    },
    {
     "data": {
      "text/plain": [
       "(2250, 8)"
      ]
     },
     "execution_count": 24,
     "metadata": {},
     "output_type": "execute_result"
    }
   ],
   "source": [
    "counts_dnase_2 = fetch_v2_scores_for_chrombpnet(finemo_hits_path, chip_seq_bw, dnase_bw, pfm_dnase[dnase_motif_id], genome)\n",
    "\n",
    "counts_dnase_2.shape"
   ]
  },
  {
   "cell_type": "code",
   "execution_count": 25,
   "metadata": {},
   "outputs": [
    {
     "data": {
      "text/plain": [
       "Text(0.5, 0, 'Number of hits (x 10^3)')"
      ]
     },
     "execution_count": 25,
     "metadata": {},
     "output_type": "execute_result"
    },
    {
     "data": {
      "image/png": "[encoded data removed]",
      "text/plain": [
       "<Figure size 1000x500 with 1 Axes>"
      ]
     },
     "metadata": {},
     "output_type": "display_data"
    }
   ],
   "source": [
    "import matplotlib.pyplot as plt\n",
    "\n",
    "# sort_col=\"cwm_scores\"\n",
    "# motif_hit_table_sorted = counts_atac.sort_values(sort_col, ascending=False)\n",
    "# footprint_scores = motif_hit_table_sorted[\"footprint\"]\n",
    "\n",
    "fig, ax = plt.subplots(nrows=1, ncols=1,figsize=(10, 5))\n",
    "\n",
    "# ax.plot(\n",
    "#     np.arange(len(footprint_scores)) / 1e3,\n",
    "#     np.cumsum(footprint_scores) / 1e5,\n",
    "#     label=\"ChromBPNet ATAC counts contribs\", color=\"g\"\n",
    "# )\n",
    "\n",
    "\n",
    "sort_col=\"hit_score\"\n",
    "motif_hit_table_sorted = counts_dnase_2.sort_values(sort_col, ascending=False)\n",
    "footprint_scores = motif_hit_table_sorted[\"footprint\"]\n",
    "\n",
    "\n",
    "ax.plot(\n",
    "    np.arange(len(footprint_scores)) / 1e3,\n",
    "    np.cumsum(footprint_scores) / 1e5,\n",
    "    label=\"ChromBPNet DNASE counts contribs (v2)\", color=\"g\"\n",
    ")\n",
    "\n",
    "\n",
    "sort_col=\"cwm_scores\"\n",
    "motif_hit_table_sorted = counts_dnase.sort_values(sort_col, ascending=False)\n",
    "footprint_scores = motif_hit_table_sorted[\"footprint\"]\n",
    "\n",
    "\n",
    "ax.plot(\n",
    "    np.arange(len(footprint_scores)) / 1e3,\n",
    "    np.cumsum(footprint_scores) / 1e5,\n",
    "    label=\"ChromBPNet DNASE counts contribs (v1)\", color=\"r\"\n",
    ")\n",
    "\n",
    "# sort_col=\"counts\"\n",
    "# motif_hit_table_sorted = counts_atac.sort_values(sort_col, ascending=False)\n",
    "# footprint_scores = motif_hit_table_sorted[\"footprint\"]\n",
    "\n",
    "\n",
    "# ax.plot(\n",
    "#     np.arange(len(footprint_scores)) / 1e3,\n",
    "#     np.cumsum(footprint_scores) / 1e5,\n",
    "#     label=\"Observed ATAC counts\", color=\"g\", linestyle=\"--\",\n",
    "# )\n",
    "\n",
    "# sort_col=\"counts\"\n",
    "# motif_hit_table_sorted = counts_dnase.sort_values(sort_col, ascending=False)\n",
    "# footprint_scores = motif_hit_table_sorted[\"footprint\"]\n",
    "\n",
    "\n",
    "# ax.plot(\n",
    "#     np.arange(len(footprint_scores)) / 1e3,\n",
    "#     np.cumsum(footprint_scores) / 1e5,\n",
    "#     label=\"Observed DNASE counts\", color=\"r\", linestyle=\"--\",\n",
    "# )\n",
    "\n",
    "\n",
    "sort_col=\"imp_frac_score\"\n",
    "motif_hit_table_sorted_tobias = tobias_atac.sort_values(sort_col, ascending=False)\n",
    "footprint_scores_tobias = motif_hit_table_sorted_tobias[\"footprint\"]\n",
    "\n",
    "ax.plot(\n",
    "    np.arange(len(footprint_scores_tobias)) / 1e3,\n",
    "    np.cumsum(footprint_scores_tobias) / 1e5,\n",
    "    label=\"Tobias\", color=\"b\"\n",
    ")\n",
    "\n",
    "plt.legend()\n",
    "\n",
    "plt.ylabel(\"Running sum of chip-seq importance scores\")\n",
    "plt.xlabel(\"Number of hits (x 10^3)\")\n",
    "#plt.savefig(os.path.join(output_dir,output_path),format='pdf',)"
   ]
  },
  {
   "cell_type": "code",
   "execution_count": null,
   "metadata": {},
   "outputs": [],
   "source": [
    "%%bash \n",
    "cat \"/oak/stanford/groups/akundaje/atwang/finemo_gpu_test/K562/obs_a_0.6_c_0.0005_v5/chip/YY1_raw/hit_importances.tsv\" | awk '{print $1 \"\\t\n",
    "\" $2 \"\\t\" $3 \"\\t.\\t\" $4 \"\\t\" $5 }' | tail -n +2 > /oak/stanford/groups/akundaje/atwang/finemo_gpu_test/K562/obs_a_0.6_c_0.0005_v5/chip/YY1_raw/hit_importances.bed"
   ]
  }
 ],
 "metadata": {
  "kernelspec": {
   "display_name": "Python 3",
   "language": "python",
   "name": "python3"
  },
  "language_info": {
   "codemirror_mode": {
    "name": "ipython",
    "version": 3
   },
   "file_extension": ".py",
   "mimetype": "text/x-python",
   "name": "python",
   "nbconvert_exporter": "python",
   "pygments_lexer": "ipython3",
   "version": "3.10.12"
  }
 },
 "nbformat": 4,
 "nbformat_minor": 4
}
